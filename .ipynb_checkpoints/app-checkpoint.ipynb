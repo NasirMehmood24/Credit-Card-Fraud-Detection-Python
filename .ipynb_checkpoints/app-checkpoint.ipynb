{
 "cells": [
  {
   "cell_type": "code",
   "execution_count": 1,
   "id": "95da7c49-8fcf-469d-9a70-84fef9d92f38",
   "metadata": {},
   "outputs": [],
   "source": [
    "import tkinter as tk\n",
    "from tkinter import messagebox\n",
    "import numpy as np\n",
    "import joblib"
   ]
  },
  {
   "cell_type": "code",
   "execution_count": 2,
   "id": "784ca6a0-d71d-4468-b8fb-b2aa13d3ab16",
   "metadata": {},
   "outputs": [],
   "source": [
    "# Load the saved model\n",
    "model = joblib.load('fraud_model.pkl')"
   ]
  },
  {
   "cell_type": "code",
   "execution_count": 3,
   "id": "06f0da0a-2360-477f-83b8-eb3d8af1612e",
   "metadata": {},
   "outputs": [],
   "source": [
    "def predict():\n",
    "    try:\n",
    "        # Get user input\n",
    "        input_data = [float(entry.get()) for entry in entries]\n",
    "        input_array = np.array([input_data])  # 2D array for sklearn\n",
    "        prediction = model.predict(input_array)\n",
    "\n",
    "        # Show result\n",
    "        if prediction[0] == 1:\n",
    "            result = \"🚨 Fraud Detected!\"\n",
    "        else:\n",
    "            result = \"✅ Transaction is Legitimate.\"\n",
    "        messagebox.showinfo(\"Prediction Result\", result)\n",
    "    except Exception as e:\n",
    "        messagebox.showerror(\"Error\", str(e))"
   ]
  },
  {
   "cell_type": "code",
   "execution_count": 4,
   "id": "f8606e39-8af5-49ba-b400-8ed197d2eeb7",
   "metadata": {},
   "outputs": [
    {
     "data": {
      "text/plain": [
       "''"
      ]
     },
     "execution_count": 4,
     "metadata": {},
     "output_type": "execute_result"
    }
   ],
   "source": [
    "# GUI Window\n",
    "root = tk.Tk()\n",
    "root.title(\"Credit Card Fraud Detection\")"
   ]
  },
  {
   "cell_type": "code",
   "execution_count": 5,
   "id": "88ba3617-014f-4f92-950c-a6cf78c79266",
   "metadata": {},
   "outputs": [
    {
     "name": "stderr",
     "output_type": "stream",
     "text": [
      "X:\\Python\\Lib\\site-packages\\sklearn\\utils\\validation.py:2739: UserWarning: X does not have valid feature names, but LogisticRegression was fitted with feature names\n",
      "  warnings.warn(\n"
     ]
    }
   ],
   "source": [
    "# Example: 3 fields only; add as many as your model needs\n",
    "features = ['V1', 'V2', 'V3']  # Replace with your actual features\n",
    "entries = []\n",
    "\n",
    "for feature in features:\n",
    "    label = tk.Label(root, text=f\"{feature}:\")\n",
    "    label.pack()\n",
    "    entry = tk.Entry(root)\n",
    "    entry.pack()\n",
    "    entries.append(entry)\n",
    "\n",
    "btn = tk.Button(root, text=\"Predict\", command=predict)\n",
    "btn.pack()\n",
    "\n",
    "root.mainloop()"
   ]
  },
  {
   "cell_type": "code",
   "execution_count": null,
   "id": "2e60454d-0fb1-4d12-afda-205af4ab6ac6",
   "metadata": {},
   "outputs": [],
   "source": []
  }
 ],
 "metadata": {
  "kernelspec": {
   "display_name": "Python 3 (ipykernel)",
   "language": "python",
   "name": "python3"
  },
  "language_info": {
   "codemirror_mode": {
    "name": "ipython",
    "version": 3
   },
   "file_extension": ".py",
   "mimetype": "text/x-python",
   "name": "python",
   "nbconvert_exporter": "python",
   "pygments_lexer": "ipython3",
   "version": "3.12.2"
  }
 },
 "nbformat": 4,
 "nbformat_minor": 5
}
